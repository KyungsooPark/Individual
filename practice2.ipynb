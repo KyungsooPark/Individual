{
  "nbformat": 4,
  "nbformat_minor": 0,
  "metadata": {
    "colab": {
      "name": "5회차_박경수.ipynb",
      "provenance": [],
      "collapsed_sections": [],
      "toc_visible": true
    },
    "kernelspec": {
      "name": "python3",
      "display_name": "Python 3"
    },
    "language_info": {
      "name": "python"
    }
  },
  "cells": [
    {
      "cell_type": "markdown",
      "metadata": {
        "id": "TUWVV4DCx7Ov"
      },
      "source": [
        "##8장 심사문제"
      ]
    },
    {
      "cell_type": "code",
      "metadata": {
        "colab": {
          "base_uri": "https://localhost:8080/"
        },
        "id": "60ZVhhJiy_qE",
        "outputId": "0eee29f5-fb29-4c36-be15-ba013cc23dbd"
      },
      "source": [
        "#표준 입력으로 국어, 영어, 수학, 과학 점수가 입력됩니다. 국어는 90점 이상, 영어는 80점 초과, 수학은 85점 초과, 과학은 80점 이상일 때 합격이라고 정했습니다(한 과목이라도 조건에 만족하지 않으면 불합격).\n",
        "#다음 소스 코드를 완성하여 합격이면 True, 불합격이면 False가 출력되게 만드세요(input에서 안내 문자열은 출력하지 않아야 합니다).\n",
        "kor = input()\n",
        "eng = input()\n",
        "mat = input()\n",
        "sci = input()\n",
        "print(int(kor) >= 90 and int(eng) > 80 and int(mat) > 85 and int(sci) >= 80)"
      ],
      "execution_count": null,
      "outputs": [
        {
          "output_type": "stream",
          "text": [
            "100\n",
            "100\n",
            "100\n",
            "0\n",
            "False\n"
          ],
          "name": "stdout"
        }
      ]
    },
    {
      "cell_type": "markdown",
      "metadata": {
        "id": "ovZhgk8u4Nht"
      },
      "source": [
        "##9장 심사문제"
      ]
    },
    {
      "cell_type": "code",
      "metadata": {
        "colab": {
          "base_uri": "https://localhost:8080/"
        },
        "id": "Y13rD4LQ2vCi",
        "outputId": "bf28c86a-8e5d-447f-dccc-b24f6768adfb"
      },
      "source": [
        "#다음 소스 코드를 완성하여 실행 결과대로 문자열이 출력되게 만드세요.\n",
        "#'Python' is a \"programming language\"\n",
        "#that lets you work quickly\n",
        "#and\n",
        "#integrate systems more effectively.\n",
        "s = ''''Python' is a \"programming language\"\\n that lets you work quickly\\n and\\n integrate systems more effectively. '''\n",
        "\n",
        "\n",
        "print(s)"
      ],
      "execution_count": null,
      "outputs": [
        {
          "output_type": "stream",
          "text": [
            "'Python' is a \"programming language\"\n",
            " that lets you work quickly\n",
            " and\n",
            " integrate systems more effectively. \n"
          ],
          "name": "stdout"
        }
      ]
    },
    {
      "cell_type": "markdown",
      "metadata": {
        "id": "eT5aQbSO6V6W"
      },
      "source": [
        "##10장 심사문제"
      ]
    },
    {
      "cell_type": "code",
      "metadata": {
        "colab": {
          "base_uri": "https://localhost:8080/"
        },
        "id": "TPrbWwGq5iNf",
        "outputId": "e8047e03-ed85-4410-e594-7cbfb3a2ec4e"
      },
      "source": [
        "#표준 입력으로 정수가 입력됩니다. range의 시작하는 숫자는 -10, 끝나는 숫자는 10이며 입력된 정수만큼 증가하는 숫자가 들어가도록 튜플을 만들고,\n",
        "# 해당 튜플을 출력하는 프로그램을 만드세요(input에서 안내 문자열은 출력하지 않아야 합니다).\n",
        "step = int(input())\n",
        "b = tuple(range(-10,10,step))\n",
        "print(b)"
      ],
      "execution_count": null,
      "outputs": [
        {
          "output_type": "stream",
          "text": [
            "3\n",
            "(-10, -7, -4, -1, 2, 5, 8)\n"
          ],
          "name": "stdout"
        }
      ]
    },
    {
      "cell_type": "markdown",
      "metadata": {
        "id": "otuCmv6f_6jv"
      },
      "source": [
        "## 11장 심사문제"
      ]
    },
    {
      "cell_type": "code",
      "metadata": {
        "colab": {
          "base_uri": "https://localhost:8080/"
        },
        "id": "qm6O0CRo9oyS",
        "outputId": "a10b42fb-8b5f-409b-9863-79276d25217f"
      },
      "source": [
        "# 표준 입력으로 숫자 또는 문자열 여러 개가 입력되어 리스트 x에 저장됩니다(입력되는 숫자 또는 문자열의 개수는 정해져 있지 않음). \n",
        "# 다음 소스 코드를 완성하여 리스트 x의 마지막 요소 5개를 삭제한 뒤 튜플로 출력되게 만드세요.\n",
        "x = input().split()\n",
        "del x[-5:]\n",
        "tuple(x)"
      ],
      "execution_count": 43,
      "outputs": [
        {
          "output_type": "stream",
          "text": [
            "10 20 30 40 50 60\n"
          ],
          "name": "stdout"
        },
        {
          "output_type": "execute_result",
          "data": {
            "text/plain": [
              "('10',)"
            ]
          },
          "metadata": {
            "tags": []
          },
          "execution_count": 43
        }
      ]
    },
    {
      "cell_type": "code",
      "metadata": {
        "id": "qMwUV7x2D2Ds",
        "colab": {
          "base_uri": "https://localhost:8080/",
          "height": 71
        },
        "outputId": "af0e7d90-704e-4e47-d667-3cc2e5968f8d"
      },
      "source": [
        "#표준 입력으로 문자열 두 개가 각 줄에 입력됩니다(문자열의 길이는 정해져 있지 않음). \n",
        "#첫 번째 문자열에서 인덱스가 홀수인 문자와 두 번째 문자열에서 인덱스가 짝수인 문자를 연결하여 출력하는 프로그램을 만드세요\n",
        "#(input에서 안내 문자열은 출력하지 않아야 합니다). 연결 순서는 첫 번째 문자열, 두 번째 문자열 순입니다. 그리고 0은 짝수로 처리합니다.\n",
        "a = input()\n",
        "b = input()\n",
        "a[1::2] + b[0::2]"
      ],
      "execution_count": 41,
      "outputs": [
        {
          "output_type": "stream",
          "text": [
            "python\n",
            "python\n"
          ],
          "name": "stdout"
        },
        {
          "output_type": "execute_result",
          "data": {
            "application/vnd.google.colaboratory.intrinsic+json": {
              "type": "string"
            },
            "text/plain": [
              "'yhnpto'"
            ]
          },
          "metadata": {
            "tags": []
          },
          "execution_count": 41
        }
      ]
    },
    {
      "cell_type": "markdown",
      "metadata": {
        "id": "lKp5iNJuF1UO"
      },
      "source": [
        "## 12장 심사문제"
      ]
    },
    {
      "cell_type": "code",
      "metadata": {
        "colab": {
          "base_uri": "https://localhost:8080/"
        },
        "id": "LWWd9Jl8F-CG",
        "outputId": "96086d91-5836-49a5-e1e4-07f8ab573aab"
      },
      "source": [
        "#표준 입력으로 문자열 여러 개와 숫자(실수) 여러 개가 두 줄로 입력됩니다. \n",
        "#입력된 첫 번째 줄은 키, 두 번째 줄은 값으로 하여 딕셔너리를 생성한 뒤 딕셔너리를 출력하는 프로그램을 만드세요. \n",
        "#input().split()의 결과를 변수 한 개에 저장하면 리스트로 저장됩니다.\n",
        "x = input().split()\n",
        "y = input().split()\n",
        "dict(zip(x,y))"
      ],
      "execution_count": 53,
      "outputs": [
        {
          "output_type": "stream",
          "text": [
            "mp hp\n",
            "10 20\n"
          ],
          "name": "stdout"
        },
        {
          "output_type": "execute_result",
          "data": {
            "text/plain": [
              "{'hp': '20', 'mp': '10'}"
            ]
          },
          "metadata": {
            "tags": []
          },
          "execution_count": 53
        }
      ]
    },
    {
      "cell_type": "markdown",
      "metadata": {
        "id": "z8XyjpBqLN9e"
      },
      "source": [
        "## 13장 심사문제"
      ]
    },
    {
      "cell_type": "code",
      "metadata": {
        "colab": {
          "base_uri": "https://localhost:8080/"
        },
        "id": "VqXJVFquLTIQ",
        "outputId": "921a529c-529f-473f-8dca-4682c49f8000"
      },
      "source": [
        "#표준 입력으로 가격(정수)과 쿠폰 이름이 각 줄에 입력됩니다. Cash3000 쿠폰은 3,000원, Cash5000 쿠폰은 5,000원을 할인합니다. \n",
        "#쿠폰에 따라 할인된 가격을 출력하는 프로그램을 만드세요(input에서 안내 문자열은 출력하지 않아야 합니다).\n",
        "x = int(input())\n",
        "y = input()\n",
        "if y == 'cash3000':\n",
        "  print(x-3000)\n",
        "if y == 'cash5000':\n",
        "  print(x-5000)"
      ],
      "execution_count": 69,
      "outputs": [
        {
          "output_type": "stream",
          "text": [
            "10000\n",
            "cash5000\n",
            "5000\n"
          ],
          "name": "stdout"
        }
      ]
    },
    {
      "cell_type": "markdown",
      "metadata": {
        "id": "EZsQSfkJLdUy"
      },
      "source": [
        "# 14장 심사문제"
      ]
    },
    {
      "cell_type": "code",
      "metadata": {
        "colab": {
          "base_uri": "https://localhost:8080/"
        },
        "id": "GZsTyWRqR2-y",
        "outputId": "6e13dbc1-8108-4ff7-de47-a68754dbe466"
      },
      "source": [
        "#표준 입력으로 국어, 영어, 수학, 과학 점수가 입력됩니다. 여기서 네 과목의 평균 점수가 80점 이상일 때 합격이라고 정했습니다. 평균 점수에 따라 '합격', '불합격'을 출력하는 프로그램을 만드세요\n",
        "#(input에서 안내 문자열은 출력하지 않아야 합니다).\n",
        "#단, 점수는 0점부터 100점까지만 입력받을 수 있으며 범위를 벗어났다면 '잘못된 점수'를 출력하고 합격, 불합격 여부는 출력하지 않아야 합니다.\n",
        "kor = int(input())\n",
        "eng = int(input())\n",
        "mat = int(input())\n",
        "sci = int(input())\n",
        "sum = kor + eng + mat + sci\n",
        "if  kor < 0 or kor > 100 or eng < 0 or eng > 100 or mat < 0 or mat > 100 or sci < 0 or sci > 100:\n",
        "  print('잘못된 점수')\n",
        "else:\n",
        "  if sum >= 320:\n",
        "    print('합격')\n",
        "if sum < 320:\n",
        "    print('불합격')\n",
        "\n"
      ],
      "execution_count": 88,
      "outputs": [
        {
          "output_type": "stream",
          "text": [
            "90\n",
            "90\n",
            "90\n",
            "90\n",
            "합격\n"
          ],
          "name": "stdout"
        }
      ]
    },
    {
      "cell_type": "code",
      "metadata": {
        "id": "g_V3s2ejSx2-"
      },
      "source": [
        ""
      ],
      "execution_count": null,
      "outputs": []
    }
  ]
}